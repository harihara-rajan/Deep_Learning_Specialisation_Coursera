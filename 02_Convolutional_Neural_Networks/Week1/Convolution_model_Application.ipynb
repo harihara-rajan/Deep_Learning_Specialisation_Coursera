{
 "cells": [
  {
   "cell_type": "markdown",
   "metadata": {},
   "source": [
    "# Convolutional Neural Networks: Application\n",
    "\n",
    "Welcome to Course 4's second assignment! In this notebook, you will:\n",
    "\n",
    "- Create a mood classifer using the TF Keras Sequential API\n",
    "- Build a ConvNet to identify sign language digits using the TF Keras Functional API\n",
    "\n",
    "**After this assignment you will be able to:**\n",
    "\n",
    "- Build and train a ConvNet in TensorFlow for a __binary__ classification problem\n",
    "- Build and train a ConvNet in TensorFlow for a __multiclass__ classification problem\n",
    "- Explain different use cases for the Sequential and Functional APIs\n",
    "\n",
    "To complete this assignment, you should already be familiar with TensorFlow. If you are not, please refer back to the **TensorFlow Tutorial** of the third week of Course 2 (\"**Improving deep neural networks**\").\n",
    "\n",
    "## Important Note on Submission to the AutoGrader\n",
    "\n",
    "Before submitting your assignment to the AutoGrader, please make sure you are not doing the following:\n",
    "\n",
    "1. You have not added any _extra_ `print` statement(s) in the assignment.\n",
    "2. You have not added any _extra_ code cell(s) in the assignment.\n",
    "3. You have not changed any of the function parameters.\n",
    "4. You are not using any global variables inside your graded exercises. Unless specifically instructed to do so, please refrain from it and use the local variables instead.\n",
    "5. You are not changing the assignment code where it is not required, like creating _extra_ variables.\n",
    "\n",
    "If you do any of the following, you will get something like, `Grader Error: Grader feedback not found` (or similarly unexpected) error upon submitting your assignment. Before asking for help/debugging the errors in your assignment, check for these first. If this is the case, and you don't remember the changes you have made, you can get a fresh copy of the assignment by following these [instructions](https://www.coursera.org/learn/convolutional-neural-networks/supplement/DS4yP/h-ow-to-refresh-your-workspace)."
   ]
  },
  {
   "cell_type": "markdown",
   "metadata": {},
   "source": [
    "## Table of Contents\n",
    "\n",
    "- [1 - Packages](#1)\n",
    "    - [1.1 - Load the Data and Split the Data into Train/Test Sets](#1-1)\n",
    "- [2 - Layers in TF Keras](#2)\n",
    "- [3 - The Sequential API](#3)\n",
    "    - [3.1 - Create the Sequential Model](#3-1)\n",
    "        - [Exercise 1 - happyModel](#ex-1)\n",
    "    - [3.2 - Train and Evaluate the Model](#3-2)\n",
    "- [4 - The Functional API](#4)\n",
    "    - [4.1 - Load the SIGNS Dataset](#4-1)\n",
    "    - [4.2 - Split the Data into Train/Test Sets](#4-2)\n",
    "    - [4.3 - Forward Propagation](#4-3)\n",
    "        - [Exercise 2 - convolutional_model](#ex-2)\n",
    "    - [4.4 - Train the Model](#4-4)\n",
    "- [5 - History Object](#5)\n",
    "- [6 - Bibliography](#6)"
   ]
  },
  {
   "cell_type": "markdown",
   "metadata": {},
   "source": [
    "<a name='1'></a>\n",
    "## 1 - Packages\n",
    "\n",
    "As usual, begin by loading in the packages."
   ]
  },
  {
   "cell_type": "code",
   "execution_count": 1,
   "metadata": {},
   "outputs": [],
   "source": [
    "import math\n",
    "import numpy as np\n",
    "import h5py\n",
    "import matplotlib.pyplot as plt\n",
    "from matplotlib.pyplot import imread\n",
    "import scipy\n",
    "from PIL import Image\n",
    "import pandas as pd\n",
    "import tensorflow as tf\n",
    "import tensorflow.keras.layers as tfl\n",
    "from tensorflow.python.framework import ops\n",
    "from cnn_utils import *\n",
    "from test_utils import summary, comparator\n",
    "\n",
    "%matplotlib inline\n",
    "np.random.seed(1)"
   ]
  },
  {
   "cell_type": "markdown",
   "metadata": {},
   "source": [
    "<a name='1-1'></a>\n",
    "### 1.1 - Load the Data and Split the Data into Train/Test Sets\n",
    "\n",
    "You'll be using the Happy House dataset for this part of the assignment, which contains images of peoples' faces. Your task will be to build a ConvNet that determines whether the people in the images are smiling or not -- because they only get to enter the house if they're smiling!  "
   ]
  },
  {
   "cell_type": "code",
   "execution_count": 3,
   "metadata": {},
   "outputs": [
    {
     "name": "stdout",
     "output_type": "stream",
     "text": [
      "number of training examples = 600\n",
      "number of test examples = 150\n",
      "X_train shape: (600, 64, 64, 3)\n",
      "Y_train shape: (600, 1)\n",
      "X_test shape: (150, 64, 64, 3)\n",
      "Y_test shape: (150, 1)\n"
     ]
    }
   ],
   "source": [
    "X_train_orig, Y_train_orig, X_test_orig, Y_test_orig, classes = load_happy_dataset()\n",
    "\n",
    "# Normalize image vectors\n",
    "X_train = X_train_orig/255.\n",
    "X_test = X_test_orig/255.\n",
    "\n",
    "# Reshape\n",
    "Y_train = Y_train_orig.T\n",
    "Y_test = Y_test_orig.T\n",
    "\n",
    "print (\"number of training examples = \" + str(X_train.shape[0]))\n",
    "print (\"number of test examples = \" + str(X_test.shape[0]))\n",
    "print (\"X_train shape: \" + str(X_train.shape))\n",
    "print (\"Y_train shape: \" + str(Y_train.shape))\n",
    "print (\"X_test shape: \" + str(X_test.shape))\n",
    "print (\"Y_test shape: \" + str(Y_test.shape))"
   ]
  },
  {
   "cell_type": "markdown",
   "metadata": {},
   "source": [
    "You can display the images contained in the dataset. Images are **64x64** pixels in RGB format (3 channels)."
   ]
  },
  {
   "cell_type": "code",
   "execution_count": 6,
   "metadata": {},
   "outputs": [
    {
     "data": {
      "image/png": "[encoded data removed]",
      "text/plain": [
       "<Figure size 432x288 with 1 Axes>"
      ]
     },
     "metadata": {
      "needs_background": "light"
     },
     "output_type": "display_data"
    }
   ],
   "source": [
    "index = 191\n",
    "plt.imshow(X_train_orig[index]) #display sample training image\n",
    "plt.show()"
   ]
  },
  {
   "cell_type": "markdown",
   "metadata": {},
   "source": [
    "<a name='2'></a>\n",
    "## 2 - Layers in TF Keras \n",
    "\n",
    "In the previous assignment, you created layers manually in numpy. In TF Keras, you don't have to write code directly to create layers. Rather, TF Keras has pre-defined layers you can use. \n",
    "\n",
    "When you create a layer in TF Keras, you are creating a function that takes some input and transforms it into an output you can reuse later. Nice and easy! "
   ]
  },
  {
   "cell_type": "markdown",
   "metadata": {},
   "source": [
    "<a name='3'></a>\n",
    "## 3 - The Sequential API\n",
    "\n",
    "In the previous assignment, you built helper functions using `numpy` to understand the mechanics behind convolutional neural networks. Most practical applications of deep learning today are built using programming frameworks, which have many built-in functions you can simply call. Keras is a high-level abstraction built on top of TensorFlow, which allows for even more simplified and optimized model creation and training. \n",
    "\n",
    "For the first part of this assignment, you'll create a model using TF Keras' Sequential API, which allows you to build layer by layer, and is ideal for building models where each layer has **exactly one** input tensor and **one** output tensor. \n",
    "\n",
    "As you'll see, using the Sequential API is simple and straightforward, but is only appropriate for simpler, more straightforward tasks. Later in this notebook you'll spend some time building with a more flexible, powerful alternative: the Functional API. \n",
    " "
   ]
  },
  {
   "cell_type": "markdown",
   "metadata": {},
   "source": [
    "<a name='3-1'></a>\n",
    "### 3.1 - Create the Sequential Model\n",
    "\n",
    "As mentioned earlier, the TensorFlow Keras Sequential API can be used to build simple models with layer operations that proceed in a sequential order. \n",
    "\n",
    "You can also add layers incrementally to a Sequential model with the `.add()` method, or remove them using the `.pop()` method, much like you would in a regular Python list.\n",
    "\n",
    "Actually, you can think of a Sequential model as behaving like a list of layers. Like Python lists, Sequential layers are ordered, and the order in which they are specified matters.  If your model is non-linear or contains layers with multiple inputs or outputs, a Sequential model wouldn't be the right choice!\n",
    "\n",
    "For any layer construction in Keras, you'll need to specify the input shape in advance. This is because in Keras, the shape of the weights is based on the shape of the inputs. The weights are only created when the model first sees some input data. Sequential models can be created by passing a list of layers to the Sequential constructor, like you will do in the next assignment.\n",
    "\n",
    "<a name='ex-1'></a>\n",
    "### Exercise 1 - happyModel\n",
    "\n",
    "Implement the `happyModel` function below to build the following model: `ZEROPAD2D -> CONV2D -> BATCHNORM -> RELU -> MAXPOOL -> FLATTEN -> DENSE`. Take help from [tf.keras.layers](https://www.tensorflow.org/api_docs/python/tf/keras/layers) \n",
    "\n",
    "Also, plug in the following parameters for all the steps:\n",
    "\n",
    " - [ZeroPadding2D](https://www.tensorflow.org/api_docs/python/tf/keras/layers/ZeroPadding2D): padding 3, input shape 64 x 64 x 3\n",
    " - [Conv2D](https://www.tensorflow.org/api_docs/python/tf/keras/layers/Conv2D): Use 32 7x7 filters, stride 1\n",
    " - [BatchNormalization](https://www.tensorflow.org/api_docs/python/tf/keras/layers/BatchNormalization): for axis 3\n",
    " - [ReLU](https://www.tensorflow.org/api_docs/python/tf/keras/layers/ReLU)\n",
    " - [MaxPool2D](https://www.tensorflow.org/api_docs/python/tf/keras/layers/MaxPool2D): Using default parameters\n",
    " - [Flatten](https://www.tensorflow.org/api_docs/python/tf/keras/layers/Flatten) the previous output.\n",
    " - Fully-connected ([Dense](https://www.tensorflow.org/api_docs/python/tf/keras/layers/Dense)) layer: Apply a fully connected layer with 1 neuron and a sigmoid activation. \n",
    " \n",
    " \n",
    " **Hint:**\n",
    " \n",
    " Use **tfl** as shorthand for **tensorflow.keras.layers**"
   ]
  },
  {
   "cell_type": "code",
   "execution_count": 19,
   "metadata": {
    "deletable": false,
    "nbgrader": {
     "cell_type": "code",
     "checksum": "95d28b191f257bdd5b70c7b8952559d5",
     "grade": false,
     "grade_id": "cell-0e56d3fc28b69aec",
     "locked": false,
     "schema_version": 3,
     "solution": true,
     "task": false
    }
   },
   "outputs": [],
   "source": [
    "# GRADED FUNCTION: happyModel\n",
    "\n",
    "def happyModel():\n",
    "    \"\"\"\n",
    "    Implements the forward propagation for the binary classification model:\n",
    "    ZEROPAD2D -> CONV2D -> BATCHNORM -> RELU -> MAXPOOL -> FLATTEN -> DENSE\n",
    "    \n",
    "    Note that for simplicity and grading purposes, you'll hard-code all the values\n",
    "    such as the stride and kernel (filter) sizes. \n",
    "    Normally, functions should take these values as function parameters.\n",
    "    \n",
    "    Arguments:\n",
    "    None\n",
    "\n",
    "    Returns:\n",
    "    model -- TF Keras model (object containing the information for the entire training process) \n",
    "    \"\"\"\n",
    "    model = tf.keras.Sequential([\n",
    "            ## ZeroPadding2D with padding 3, input shape of 64 x 64 x 3\n",
    "            tf.keras.layers.ZeroPadding2D(padding=(3,3),input_shape=(64, 64, 3)),\n",
    "            ## Conv2D with 32 7x7 filters and stride of 1\n",
    "            tf.keras.layers.Conv2D(32, 7, strides=1),\n",
    "            ## BatchNormalization for axis 3\n",
    "            tf.keras.layers.BatchNormalization(axis=3),\n",
    "            ## ReLU\n",
    "            tf.keras.layers.ReLU(max_value=None, negative_slope=0.0, threshold=0.0),\n",
    "            ## Max Pooling 2D with default parameters\n",
    "            tf.keras.layers.MaxPool2D(),\n",
    "            ## Flatten layer\n",
    "            tf.keras.layers.Flatten(),\n",
    "            ## Dense layer with 1 unit for output & 'sigmoid' activation\n",
    "            tf.keras.layers.Dense(units=1, activation='sigmoid')            \n",
    "        ])\n",
    "    \n",
    "    return model"
   ]
  },
  {
   "cell_type": "code",
   "execution_count": 20,
   "metadata": {
    "deletable": false,
    "editable": false,
    "nbgrader": {
     "cell_type": "code",
     "checksum": "8d3575c950e2e78149be2d05d671c80d",
     "grade": true,
     "grade_id": "cell-e3e1046e5c33d775",
     "locked": true,
     "points": 10,
     "schema_version": 3,
     "solution": false,
     "task": false
    }
   },
   "outputs": [
    {
     "name": "stdout",
     "output_type": "stream",
     "text": [
      "['ZeroPadding2D', (None, 70, 70, 3), 0, ((3, 3), (3, 3))]\n",
      "['Conv2D', (None, 64, 64, 32), 4736, 'valid', 'linear', 'GlorotUniform']\n",
      "['BatchNormalization', (None, 64, 64, 32), 128]\n",
      "['ReLU', (None, 64, 64, 32), 0]\n",
      "['MaxPooling2D', (None, 32, 32, 32), 0, (2, 2), (2, 2), 'valid']\n",
      "['Flatten', (None, 32768), 0]\n",
      "['Dense', (None, 1), 32769, 'sigmoid']\n",
      "\u001b[32mAll tests passed!\u001b[0m\n"
     ]
    }
   ],
   "source": [
    "happy_model = happyModel()\n",
    "# Print a summary for each layer\n",
    "for layer in summary(happy_model):\n",
    "    print(layer)\n",
    "    \n",
    "output = [['ZeroPadding2D', (None, 70, 70, 3), 0, ((3, 3), (3, 3))],\n",
    "            ['Conv2D', (None, 64, 64, 32), 4736, 'valid', 'linear', 'GlorotUniform'],\n",
    "            ['BatchNormalization', (None, 64, 64, 32), 128],\n",
    "            ['ReLU', (None, 64, 64, 32), 0],\n",
    "            ['MaxPooling2D', (None, 32, 32, 32), 0, (2, 2), (2, 2), 'valid'],\n",
    "            ['Flatten', (None, 32768), 0],\n",
    "            ['Dense', (None, 1), 32769, 'sigmoid']]\n",
    "    \n",
    "comparator(summary(happy_model), output)"
   ]
  },
  {
   "cell_type": "markdown",
   "metadata": {},
   "source": [
    "#### Expected Output:\n",
    "\n",
    "```\n",
    "['ZeroPadding2D', (None, 70, 70, 3), 0, ((3, 3), (3, 3))]\n",
    "['Conv2D', (None, 64, 64, 32), 4736, 'valid', 'linear', 'GlorotUniform']\n",
    "['BatchNormalization', (None, 64, 64, 32), 128]\n",
    "['ReLU', (None, 64, 64, 32), 0]\n",
    "['MaxPooling2D', (None, 32, 32, 32), 0, (2, 2), (2, 2), 'valid']\n",
    "['Flatten', (None, 32768), 0]\n",
    "['Dense', (None, 1), 32769, 'sigmoid']\n",
    "All tests passed!\n",
    "```"
   ]
  },
  {
   "cell_type": "markdown",
   "metadata": {},
   "source": [
    "Now that your model is created, you can compile it for training with an optimizer and loss of your choice. When the string `accuracy` is specified as a metric, the type of accuracy used will be automatically converted based on the loss function used. This is one of the many optimizations built into TensorFlow that make your life easier! If you'd like to read more on how the compiler operates, check the docs [here](https://www.tensorflow.org/api_docs/python/tf/keras/Model#compile)."
   ]
  },
  {
   "cell_type": "code",
   "execution_count": 21,
   "metadata": {},
   "outputs": [],
   "source": [
    "happy_model.compile(optimizer='adam',\n",
    "                   loss='binary_crossentropy',\n",
    "                   metrics=['accuracy'])"
   ]
  },
  {
   "cell_type": "markdown",
   "metadata": {},
   "source": [
    "It's time to check your model's parameters with the `.summary()` method. This will display the types of layers you have, the shape of the outputs, and how many parameters are in each layer. "
   ]
  },
  {
   "cell_type": "code",
   "execution_count": 22,
   "metadata": {},
   "outputs": [
    {
     "name": "stdout",
     "output_type": "stream",
     "text": [
      "Model: \"sequential_6\"\n",
      "_________________________________________________________________\n",
      "Layer (type)                 Output Shape              Param #   \n",
      "=================================================================\n",
      "zero_padding2d_6 (ZeroPaddin (None, 70, 70, 3)         0         \n",
      "_________________________________________________________________\n",
      "conv2d_6 (Conv2D)            (None, 64, 64, 32)        4736      \n",
      "_________________________________________________________________\n",
      "batch_normalization_6 (Batch (None, 64, 64, 32)        128       \n",
      "_________________________________________________________________\n",
      "re_lu_2 (ReLU)               (None, 64, 64, 32)        0         \n",
      "_________________________________________________________________\n",
      "max_pooling2d_6 (MaxPooling2 (None, 32, 32, 32)        0         \n",
      "_________________________________________________________________\n",
      "flatten_6 (Flatten)          (None, 32768)             0         \n",
      "_________________________________________________________________\n",
      "dense_6 (Dense)              (None, 1)                 32769     \n",
      "=================================================================\n",
      "Total params: 37,633\n",
      "Trainable params: 37,569\n",
      "Non-trainable params: 64\n",
      "_________________________________________________________________\n"
     ]
    }
   ],
   "source": [
    "happy_model.summary()"
   ]
  },
  {
   "cell_type": "markdown",
   "metadata": {},
   "source": [
    "<a name='3-2'></a>\n",
    "### 3.2 - Train and Evaluate the Model\n",
    "\n",
    "After creating the model, compiling it with your choice of optimizer and loss function, and doing a sanity check on its contents, you are now ready to build! \n",
    "\n",
    "Simply call `.fit()` to train. That's it! No need for mini-batching, saving, or complex backpropagation computations. That's all been done for you, as you're using a TensorFlow dataset with the batches specified already. You do have the option to specify epoch number or minibatch size if you like (for example, in the case of an un-batched dataset)."
   ]
  },
  {
   "cell_type": "code",
   "execution_count": 23,
   "metadata": {},
   "outputs": [
    {
     "name": "stdout",
     "output_type": "stream",
     "text": [
      "Epoch 1/10\n",
      "38/38 [==============================] - 4s 100ms/step - loss: 1.2618 - accuracy: 0.6850\n",
      "Epoch 2/10\n",
      "38/38 [==============================] - 4s 95ms/step - loss: 0.2125 - accuracy: 0.9183\n",
      "Epoch 3/10\n",
      "38/38 [==============================] - 4s 97ms/step - loss: 0.1485 - accuracy: 0.9467\n",
      "Epoch 4/10\n",
      "38/38 [==============================] - 4s 95ms/step - loss: 0.1581 - accuracy: 0.9350\n",
      "Epoch 5/10\n",
      "38/38 [==============================] - 4s 95ms/step - loss: 0.2262 - accuracy: 0.9050\n",
      "Epoch 6/10\n",
      "38/38 [==============================] - 4s 100ms/step - loss: 0.1145 - accuracy: 0.9633\n",
      "Epoch 7/10\n",
      "38/38 [==============================] - 4s 95ms/step - loss: 0.1605 - accuracy: 0.9383\n",
      "Epoch 8/10\n",
      "38/38 [==============================] - 4s 97ms/step - loss: 0.0807 - accuracy: 0.9767\n",
      "Epoch 9/10\n",
      "38/38 [==============================] - 4s 95ms/step - loss: 0.0991 - accuracy: 0.9683\n",
      "Epoch 10/10\n",
      "38/38 [==============================] - 4s 95ms/step - loss: 0.0985 - accuracy: 0.9650\n"
     ]
    },
    {
     "data": {
      "text/plain": [
       "<tensorflow.python.keras.callbacks.History at 0x7ff174872090>"
      ]
     },
     "execution_count": 23,
     "metadata": {},
     "output_type": "execute_result"
    }
   ],
   "source": [
    "happy_model.fit(X_train, Y_train, epochs=10, batch_size=16)"
   ]
  },
  {
   "cell_type": "markdown",
   "metadata": {},
   "source": [
    "After that completes, just use `.evaluate()` to evaluate against your test set. This function will print the value of the loss function and the performance metrics specified during the compilation of the model. In this case, the `binary_crossentropy` and the `accuracy` respectively."
   ]
  },
  {
   "cell_type": "code",
   "execution_count": 24,
   "metadata": {},
   "outputs": [
    {
     "name": "stdout",
     "output_type": "stream",
     "text": [
      "5/5 [==============================] - 0s 33ms/step - loss: 1.0922 - accuracy: 0.6533\n"
     ]
    },
    {
     "data": {
      "text/plain": [
       "[1.09219229221344, 0.653333306312561]"
      ]
     },
     "execution_count": 24,
     "metadata": {},
     "output_type": "execute_result"
    }
   ],
   "source": [
    "happy_model.evaluate(X_test, Y_test)"
   ]
  },
  {
   "cell_type": "markdown",
   "metadata": {},
   "source": [
    "Easy, right? But what if you need to build a model with shared layers, branches, or multiple inputs and outputs? This is where Sequential, with its beautifully simple yet limited functionality, won't be able to help you. \n",
    "\n",
    "Next up: Enter the Functional API, your slightly more complex, highly flexible friend.  "
   ]
  },
  {
   "cell_type": "markdown",
   "metadata": {},
   "source": [
    "<a name='4'></a>\n",
    "## 4 - The Functional API"
   ]
  },
  {
   "cell_type": "markdown",
   "metadata": {},
   "source": [
    "Welcome to the second half of the assignment, where you'll use Keras' flexible [Functional API](https://www.tensorflow.org/guide/keras/functional) to build a ConvNet that can differentiate between 6 sign language digits. \n",
    "\n",
    "The Functional API can handle models with non-linear topology, shared layers, as well as layers with multiple inputs or outputs. Imagine that, where the Sequential API requires the model to move in a linear fashion through its layers, the Functional API allows much more flexibility. Where Sequential is a straight line, a Functional model is a graph, where the nodes of the layers can connect in many more ways than one. \n",
    "\n",
    "In the visual example below, the one possible direction of the movement Sequential model is shown in contrast to a skip connection, which is just one of the many ways a Functional model can be constructed. A skip connection, as you might have guessed, skips some layer in the network and feeds the output to a later layer in the network. Don't worry, you'll be spending more time with skip connections very soon! "
   ]
  },
  {
   "cell_type": "markdown",
   "metadata": {},
   "source": [
    "<img src=\"images/seq_vs_func.png\" style=\"width:350px;height:200px;\">"
   ]
  },
  {
   "cell_type": "markdown",
   "metadata": {},
   "source": [
    "<a name='4-1'></a>\n",
    "### 4.1 - Load the SIGNS Dataset\n",
    "\n",
    "As a reminder, the SIGNS dataset is a collection of 6 signs representing numbers from 0 to 5."
   ]
  },
  {
   "cell_type": "code",
   "execution_count": 25,
   "metadata": {},
   "outputs": [],
   "source": [
    "# Loading the data (signs)\n",
    "X_train_orig, Y_train_orig, X_test_orig, Y_test_orig, classes = load_signs_dataset()"
   ]
  },
  {
   "cell_type": "markdown",
   "metadata": {},
   "source": [
    "<img src=\"images/SIGNS.png\" style=\"width:800px;height:300px;\">\n",
    "\n",
    "The next cell will show you an example of a labelled image in the dataset. Feel free to change the value of `index` below and re-run to see different examples. "
   ]
  },
  {
   "cell_type": "code",
   "execution_count": 27,
   "metadata": {},
   "outputs": [
    {
     "name": "stdout",
     "output_type": "stream",
     "text": [
      "y = 4\n"
     ]
    },
    {
     "data": {
      "image/png": "[encoded data removed]",
      "text/plain": [
       "<Figure size 432x288 with 1 Axes>"
      ]
     },
     "metadata": {
      "needs_background": "light"
     },
     "output_type": "display_data"
    }
   ],
   "source": [
    "# Example of an image from the dataset\n",
    "index = 109\n",
    "plt.imshow(X_train_orig[index])\n",
    "print (\"y = \" + str(np.squeeze(Y_train_orig[:, index])))"
   ]
  },
  {
   "cell_type": "markdown",
   "metadata": {},
   "source": [
    "<a name='4-2'></a>\n",
    "### 4.2 - Split the Data into Train/Test Sets\n",
    "\n",
    "In Course 2, you built a fully-connected network for this dataset. But since this is an image dataset, it is more natural to apply a ConvNet to it.\n",
    "\n",
    "To get started, let's examine the shapes of your data. "
   ]
  },
  {
   "cell_type": "code",
   "execution_count": 30,
   "metadata": {},
   "outputs": [
    {
     "name": "stdout",
     "output_type": "stream",
     "text": [
      "number of training examples = 1080\n",
      "number of test examples = 120\n",
      "X_train shape: (1080, 64, 64, 3)\n",
      "Y_train shape: (1080, 6)\n",
      "X_test shape: (120, 64, 64, 3)\n",
      "Y_test shape: (120, 6)\n"
     ]
    }
   ],
   "source": [
    "X_train = X_train_orig/255.\n",
    "X_test = X_test_orig/255.\n",
    "Y_train = convert_to_one_hot(Y_train_orig, 6).T\n",
    "Y_test = convert_to_one_hot(Y_test_orig, 6).T\n",
    "print (\"number of training examples = \" + str(X_train.shape[0]))\n",
    "print (\"number of test examples = \" + str(X_test.shape[0]))\n",
    "print (\"X_train shape: \" + str(X_train.shape))\n",
    "print (\"Y_train shape: \" + str(Y_train.shape))\n",
    "print (\"X_test shape: \" + str(X_test.shape))\n",
    "print (\"Y_test shape: \" + str(Y_test.shape))"
   ]
  },
  {
   "cell_type": "markdown",
   "metadata": {},
   "source": [
    "<a name='4-3'></a>\n",
    "### 4.3 - Forward Propagation\n",
    "\n",
    "In TensorFlow, there are built-in functions that implement the convolution steps for you. By now, you should be familiar with how TensorFlow builds computational graphs. In the [Functional API](https://www.tensorflow.org/guide/keras/functional), you create a graph of layers. This is what allows such great flexibility.\n",
    "\n",
    "However, the following model could also be defined using the Sequential API since the information flow is on a single line. But don't deviate. What we want you to learn is to use the functional API.\n",
    "\n",
    "Begin building your graph of layers by creating an input node that functions as a callable object:\n",
    "\n",
    "- **input_img = tf.keras.Input(shape=input_shape):** \n",
    "\n",
    "Then, create a new node in the graph of layers by calling a layer on the `input_img` object: \n",
    "\n",
    "- **tf.keras.layers.Conv2D(filters= ... , kernel_size= ... , padding='same')(input_img):** Read the full documentation on [Conv2D](https://www.tensorflow.org/api_docs/python/tf/keras/layers/Conv2D).\n",
    "\n",
    "- **tf.keras.layers.MaxPool2D(pool_size=(f, f), strides=(s, s), padding='same'):** `MaxPool2D()` downsamples your input using a window of size (f, f) and strides of size (s, s) to carry out max pooling over each window.  For max pooling, you usually operate on a single example at a time and a single channel at a time. Read the full documentation on [MaxPool2D](https://www.tensorflow.org/api_docs/python/tf/keras/layers/MaxPool2D).\n",
    "\n",
    "- **tf.keras.layers.ReLU():** computes the elementwise ReLU of Z (which can be any shape). You can read the full documentation on [ReLU](https://www.tensorflow.org/api_docs/python/tf/keras/layers/ReLU).\n",
    "\n",
    "- **tf.keras.layers.Flatten()**: given a tensor \"P\", this function takes each training (or test) example in the batch and flattens it into a 1D vector.  \n",
    "\n",
    "    * If a tensor P has the shape (batch_size,h,w,c), it returns a flattened tensor with shape (batch_size, k), where $k=h \\times w \\times c$.  \"k\" equals the product of all the dimension sizes other than the first dimension.\n",
    "    \n",
    "    * For example, given a tensor with dimensions [100, 2, 3, 4], it flattens the tensor to be of shape [100, 24], where 24 = 2 * 3 * 4.  You can read the full documentation on [Flatten](https://www.tensorflow.org/api_docs/python/tf/keras/layers/Flatten).\n",
    "\n",
    "- **tf.keras.layers.Dense(units= ... , activation='softmax')(F):** given the flattened input F, it returns the output computed using a fully connected layer. You can read the full documentation on [Dense](https://www.tensorflow.org/api_docs/python/tf/keras/layers/Dense).\n",
    "\n",
    "In the last function above (`tf.keras.layers.Dense()`), the fully connected layer automatically initializes weights in the graph and keeps on training them as you train the model. Hence, you did not need to initialize those weights when initializing the parameters.\n",
    "\n",
    "Lastly, before creating the model, you'll need to define the output using the last of the function's compositions (in this example, a Dense layer): \n",
    "\n",
    "- **outputs = tf.keras.layers.Dense(units=6, activation='softmax')(F)**\n",
    "\n",
    "\n",
    "#### Window, kernel, filter, pool\n",
    "\n",
    "The words \"kernel\" and \"filter\" are used to refer to the same thing. The word \"filter\" accounts for the amount of \"kernels\" that will be used in a single convolution layer. \"Pool\" is the name of the operation that takes the max or average value of the kernels. \n",
    "\n",
    "This is why the parameter `pool_size` refers to `kernel_size`, and you use `(f,f)` to refer to the filter size. \n",
    "\n",
    "Pool size and kernel size refer to the same thing in different objects - They refer to the shape of the window where the operation takes place. "
   ]
  },
  {
   "cell_type": "markdown",
   "metadata": {},
   "source": [
    "<a name='ex-2'></a>\n",
    "### Exercise 2 - convolutional_model\n",
    "\n",
    "Implement the `convolutional_model` function below to build the following model: `CONV2D -> RELU -> MAXPOOL -> CONV2D -> RELU -> MAXPOOL -> FLATTEN -> DENSE`. Use the functions above! \n",
    "\n",
    "Also, plug in the following parameters for all the steps:\n",
    "\n",
    " - [Conv2D](https://www.tensorflow.org/api_docs/python/tf/keras/layers/Conv2D): Use 8 4 by 4 filters, stride 1, padding is \"SAME\"\n",
    " - [ReLU](https://www.tensorflow.org/api_docs/python/tf/keras/layers/ReLU)\n",
    " - [MaxPool2D](https://www.tensorflow.org/api_docs/python/tf/keras/layers/MaxPool2D): Use an 8 by 8 filter size and an 8 by 8 stride, padding is \"SAME\"\n",
    " - **Conv2D**: Use 16 2 by 2 filters, stride 1, padding is \"SAME\"\n",
    " - **ReLU**\n",
    " - **MaxPool2D**: Use a 4 by 4 filter size and a 4 by 4 stride, padding is \"SAME\"\n",
    " - [Flatten](https://www.tensorflow.org/api_docs/python/tf/keras/layers/Flatten) the previous output.\n",
    " - Fully-connected ([Dense](https://www.tensorflow.org/api_docs/python/tf/keras/layers/Dense)) layer: Apply a fully connected layer with 6 neurons and a softmax activation. "
   ]
  },
  {
   "cell_type": "code",
   "execution_count": 39,
   "metadata": {
    "deletable": false,
    "nbgrader": {
     "cell_type": "code",
     "checksum": "f58643806aa8380c96225fc8b4c5e7aa",
     "grade": false,
     "grade_id": "cell-dac51744a9e03f51",
     "locked": false,
     "schema_version": 3,
     "solution": true,
     "task": false
    }
   },
   "outputs": [],
   "source": [
    "# GRADED FUNCTION: convolutional_model\n",
    "\n",
    "def convolutional_model(input_shape):\n",
    "    \"\"\"\n",
    "    Implements the forward propagation for the model:\n",
    "    CONV2D -> RELU -> MAXPOOL -> CONV2D -> RELU -> MAXPOOL -> FLATTEN -> DENSE\n",
    "    \n",
    "    Note that for simplicity and grading purposes, you'll hard-code some values\n",
    "    such as the stride and kernel (filter) sizes. \n",
    "    Normally, functions should take these values as function parameters.\n",
    "    \n",
    "    Arguments:\n",
    "    input_img -- input dataset, of shape (input_shape)\n",
    "\n",
    "    Returns:\n",
    "    model -- TF Keras model (object containing the information for the entire training process) \n",
    "    \"\"\"\n",
    "\n",
    "    input_img = tf.keras.Input(shape=input_shape)\n",
    "    ## CONV2D: 8 filters 4x4, stride of 1, padding 'SAME'\n",
    "    Z1 = tf.keras.layers.Conv2D(filters=8, kernel_size=(4,4), strides=1, padding='same')(input_img)\n",
    "    ## RELU\n",
    "    A1 = tf.keras.layers.ReLU()(Z1)\n",
    "    ## MAXPOOL: window 8x8, stride 8, padding 'SAME'\n",
    "    P1 = tf.keras.layers.MaxPool2D(pool_size=(8,8), strides=(8,8), padding='same')(A1)\n",
    "    ## CONV2D: 16 filters 2x2, stride 1, padding 'SAME'\n",
    "    Z2 = tf.keras.layers.Conv2D(filters=16, kernel_size=(2,2), strides=1, padding='same')(P1)\n",
    "    ## RELU\n",
    "    A2 = tf.keras.layers.ReLU()(Z2)\n",
    "    ## MAXPOOL: window 4x4, stride 4, padding 'SAME'\n",
    "    P2 = tf.keras.layers.MaxPool2D(pool_size=(4,4), strides=4, padding='same')(A2)\n",
    "    ## FLATTEN\n",
    "    F = tf.keras.layers.Flatten()(P2)\n",
    "    ## Dense layer\n",
    "    ## 6 neurons in output layer. Hint: one of the arguments should be \"activation='softmax'\" \n",
    "    # outputs = None\n",
    "    outputs=tf.keras.layers.Dense(units=6, activation='softmax')(F)\n",
    "    # YOUR CODE STARTS HERE\n",
    "    \n",
    "    \n",
    "    # YOUR CODE ENDS HERE\n",
    "    model = tf.keras.Model(inputs=input_img, outputs=outputs)\n",
    "    return model"
   ]
  },
  {
   "cell_type": "code",
   "execution_count": 40,
   "metadata": {
    "deletable": false,
    "editable": false,
    "nbgrader": {
     "cell_type": "code",
     "checksum": "483d626949930a0b0ef20997e7c6ba72",
     "grade": true,
     "grade_id": "cell-45d22e92042174c9",
     "locked": true,
     "points": 10,
     "schema_version": 3,
     "solution": false,
     "task": false
    }
   },
   "outputs": [
    {
     "name": "stdout",
     "output_type": "stream",
     "text": [
      "Model: \"functional_2\"\n",
      "_________________________________________________________________\n",
      "Layer (type)                 Output Shape              Param #   \n",
      "=================================================================\n",
      "input_5 (InputLayer)         [(None, 64, 64, 3)]       0         \n",
      "_________________________________________________________________\n",
      "conv2d_13 (Conv2D)           (None, 64, 64, 8)         392       \n",
      "_________________________________________________________________\n",
      "re_lu_9 (ReLU)               (None, 64, 64, 8)         0         \n",
      "_________________________________________________________________\n",
      "max_pooling2d_11 (MaxPooling (None, 8, 8, 8)           0         \n",
      "_________________________________________________________________\n",
      "conv2d_14 (Conv2D)           (None, 8, 8, 16)          528       \n",
      "_________________________________________________________________\n",
      "re_lu_10 (ReLU)              (None, 8, 8, 16)          0         \n",
      "_________________________________________________________________\n",
      "max_pooling2d_12 (MaxPooling (None, 2, 2, 16)          0         \n",
      "_________________________________________________________________\n",
      "flatten_9 (Flatten)          (None, 64)                0         \n",
      "_________________________________________________________________\n",
      "dense_8 (Dense)              (None, 6)                 390       \n",
      "=================================================================\n",
      "Total params: 1,310\n",
      "Trainable params: 1,310\n",
      "Non-trainable params: 0\n",
      "_________________________________________________________________\n",
      "\u001b[32mAll tests passed!\u001b[0m\n"
     ]
    }
   ],
   "source": [
    "conv_model = convolutional_model((64, 64, 3))\n",
    "conv_model.compile(optimizer='adam',\n",
    "                  loss='categorical_crossentropy',\n",
    "                  metrics=['accuracy'])\n",
    "conv_model.summary()\n",
    "    \n",
    "output = [['InputLayer', [(None, 64, 64, 3)], 0],\n",
    "        ['Conv2D', (None, 64, 64, 8), 392, 'same', 'linear', 'GlorotUniform'],\n",
    "        ['ReLU', (None, 64, 64, 8), 0],\n",
    "        ['MaxPooling2D', (None, 8, 8, 8), 0, (8, 8), (8, 8), 'same'],\n",
    "        ['Conv2D', (None, 8, 8, 16), 528, 'same', 'linear', 'GlorotUniform'],\n",
    "        ['ReLU', (None, 8, 8, 16), 0],\n",
    "        ['MaxPooling2D', (None, 2, 2, 16), 0, (4, 4), (4, 4), 'same'],\n",
    "        ['Flatten', (None, 64), 0],\n",
    "        ['Dense', (None, 6), 390, 'softmax']]\n",
    "    \n",
    "comparator(summary(conv_model), output)"
   ]
  },
  {
   "cell_type": "markdown",
   "metadata": {},
   "source": [
    "Both the Sequential and Functional APIs return a TF Keras model object. The only difference is how inputs are handled inside the object model! "
   ]
  },
  {
   "cell_type": "markdown",
   "metadata": {},
   "source": [
    "<a name='4-4'></a>\n",
    "### 4.4 - Train the Model"
   ]
  },
  {
   "cell_type": "code",
   "execution_count": 41,
   "metadata": {},
   "outputs": [
    {
     "name": "stdout",
     "output_type": "stream",
     "text": [
      "Epoch 1/100\n",
      "17/17 [==============================] - 2s 112ms/step - loss: 1.8131 - accuracy: 0.1917 - val_loss: 1.7888 - val_accuracy: 0.1583\n",
      "Epoch 2/100\n",
      "17/17 [==============================] - 2s 112ms/step - loss: 1.7876 - accuracy: 0.1907 - val_loss: 1.7826 - val_accuracy: 0.2250\n",
      "Epoch 3/100\n",
      "17/17 [==============================] - 2s 112ms/step - loss: 1.7828 - accuracy: 0.2046 - val_loss: 1.7767 - val_accuracy: 0.2417\n",
      "Epoch 4/100\n",
      "17/17 [==============================] - 2s 106ms/step - loss: 1.7775 - accuracy: 0.2583 - val_loss: 1.7707 - val_accuracy: 0.2250\n",
      "Epoch 5/100\n",
      "17/17 [==============================] - 2s 106ms/step - loss: 1.7718 - accuracy: 0.2731 - val_loss: 1.7648 - val_accuracy: 0.3000\n",
      "Epoch 6/100\n",
      "17/17 [==============================] - 2s 112ms/step - loss: 1.7652 - accuracy: 0.3056 - val_loss: 1.7580 - val_accuracy: 0.3250\n",
      "Epoch 7/100\n",
      "17/17 [==============================] - 2s 106ms/step - loss: 1.7574 - accuracy: 0.3241 - val_loss: 1.7489 - val_accuracy: 0.3417\n",
      "Epoch 8/100\n",
      "17/17 [==============================] - 2s 106ms/step - loss: 1.7478 - accuracy: 0.3426 - val_loss: 1.7382 - val_accuracy: 0.4083\n",
      "Epoch 9/100\n",
      "17/17 [==============================] - 2s 106ms/step - loss: 1.7354 - accuracy: 0.3546 - val_loss: 1.7230 - val_accuracy: 0.3750\n",
      "Epoch 10/100\n",
      "17/17 [==============================] - 2s 106ms/step - loss: 1.7175 - accuracy: 0.3759 - val_loss: 1.7030 - val_accuracy: 0.4167\n",
      "Epoch 11/100\n",
      "17/17 [==============================] - 2s 106ms/step - loss: 1.6975 - accuracy: 0.4037 - val_loss: 1.6831 - val_accuracy: 0.4250\n",
      "Epoch 12/100\n",
      "17/17 [==============================] - 2s 101ms/step - loss: 1.6740 - accuracy: 0.4176 - val_loss: 1.6586 - val_accuracy: 0.4333\n",
      "Epoch 13/100\n",
      "17/17 [==============================] - 2s 106ms/step - loss: 1.6504 - accuracy: 0.4324 - val_loss: 1.6347 - val_accuracy: 0.4667\n",
      "Epoch 14/100\n",
      "17/17 [==============================] - 2s 112ms/step - loss: 1.6226 - accuracy: 0.4361 - val_loss: 1.6084 - val_accuracy: 0.4583\n",
      "Epoch 15/100\n",
      "17/17 [==============================] - 2s 111ms/step - loss: 1.5929 - accuracy: 0.4509 - val_loss: 1.5801 - val_accuracy: 0.4833\n",
      "Epoch 16/100\n",
      "17/17 [==============================] - 2s 111ms/step - loss: 1.5593 - accuracy: 0.4630 - val_loss: 1.5506 - val_accuracy: 0.4833\n",
      "Epoch 17/100\n",
      "17/17 [==============================] - 2s 107ms/step - loss: 1.5250 - accuracy: 0.4787 - val_loss: 1.5178 - val_accuracy: 0.4583\n",
      "Epoch 18/100\n",
      "17/17 [==============================] - 2s 111ms/step - loss: 1.4869 - accuracy: 0.4787 - val_loss: 1.4919 - val_accuracy: 0.4583\n",
      "Epoch 19/100\n",
      "17/17 [==============================] - 2s 111ms/step - loss: 1.4500 - accuracy: 0.4954 - val_loss: 1.4476 - val_accuracy: 0.5083\n",
      "Epoch 20/100\n",
      "17/17 [==============================] - 2s 111ms/step - loss: 1.4024 - accuracy: 0.5111 - val_loss: 1.4119 - val_accuracy: 0.4833\n",
      "Epoch 21/100\n",
      "17/17 [==============================] - 2s 111ms/step - loss: 1.3544 - accuracy: 0.5343 - val_loss: 1.3716 - val_accuracy: 0.4833\n",
      "Epoch 22/100\n",
      "17/17 [==============================] - 2s 106ms/step - loss: 1.3056 - accuracy: 0.5463 - val_loss: 1.3373 - val_accuracy: 0.4833\n",
      "Epoch 23/100\n",
      "17/17 [==============================] - 2s 106ms/step - loss: 1.2601 - accuracy: 0.5639 - val_loss: 1.3027 - val_accuracy: 0.5417\n",
      "Epoch 24/100\n",
      "17/17 [==============================] - 2s 106ms/step - loss: 1.2179 - accuracy: 0.5787 - val_loss: 1.2649 - val_accuracy: 0.5333\n",
      "Epoch 25/100\n",
      "17/17 [==============================] - 2s 106ms/step - loss: 1.1779 - accuracy: 0.5972 - val_loss: 1.2303 - val_accuracy: 0.5417\n",
      "Epoch 26/100\n",
      "17/17 [==============================] - 2s 106ms/step - loss: 1.1395 - accuracy: 0.6083 - val_loss: 1.1965 - val_accuracy: 0.5333\n",
      "Epoch 27/100\n",
      "17/17 [==============================] - 2s 106ms/step - loss: 1.1040 - accuracy: 0.6130 - val_loss: 1.1609 - val_accuracy: 0.5333\n",
      "Epoch 28/100\n",
      "17/17 [==============================] - 2s 106ms/step - loss: 1.0700 - accuracy: 0.6250 - val_loss: 1.1330 - val_accuracy: 0.5583\n",
      "Epoch 29/100\n",
      "17/17 [==============================] - 2s 106ms/step - loss: 1.0367 - accuracy: 0.6361 - val_loss: 1.1013 - val_accuracy: 0.5917\n",
      "Epoch 30/100\n",
      "17/17 [==============================] - 2s 106ms/step - loss: 1.0069 - accuracy: 0.6509 - val_loss: 1.0787 - val_accuracy: 0.5917\n",
      "Epoch 31/100\n",
      "17/17 [==============================] - 2s 106ms/step - loss: 0.9787 - accuracy: 0.6556 - val_loss: 1.0505 - val_accuracy: 0.6083\n",
      "Epoch 32/100\n",
      "17/17 [==============================] - 2s 111ms/step - loss: 0.9510 - accuracy: 0.6722 - val_loss: 1.0275 - val_accuracy: 0.6083\n",
      "Epoch 33/100\n",
      "17/17 [==============================] - 2s 112ms/step - loss: 0.9269 - accuracy: 0.6852 - val_loss: 1.0055 - val_accuracy: 0.6250\n",
      "Epoch 34/100\n",
      "17/17 [==============================] - 2s 106ms/step - loss: 0.9028 - accuracy: 0.6981 - val_loss: 0.9840 - val_accuracy: 0.6167\n",
      "Epoch 35/100\n",
      "17/17 [==============================] - 2s 106ms/step - loss: 0.8809 - accuracy: 0.7102 - val_loss: 0.9653 - val_accuracy: 0.6417\n",
      "Epoch 36/100\n",
      "17/17 [==============================] - 2s 106ms/step - loss: 0.8595 - accuracy: 0.7148 - val_loss: 0.9453 - val_accuracy: 0.6667\n",
      "Epoch 37/100\n",
      "17/17 [==============================] - 2s 107ms/step - loss: 0.8406 - accuracy: 0.7231 - val_loss: 0.9303 - val_accuracy: 0.6750\n",
      "Epoch 38/100\n",
      "17/17 [==============================] - 2s 106ms/step - loss: 0.8207 - accuracy: 0.7361 - val_loss: 0.9112 - val_accuracy: 0.6750\n",
      "Epoch 39/100\n",
      "17/17 [==============================] - 2s 108ms/step - loss: 0.8040 - accuracy: 0.7417 - val_loss: 0.8975 - val_accuracy: 0.6833\n",
      "Epoch 40/100\n",
      "17/17 [==============================] - 2s 111ms/step - loss: 0.7874 - accuracy: 0.7481 - val_loss: 0.8828 - val_accuracy: 0.7083\n",
      "Epoch 41/100\n",
      "17/17 [==============================] - 2s 106ms/step - loss: 0.7729 - accuracy: 0.7528 - val_loss: 0.8687 - val_accuracy: 0.7000\n",
      "Epoch 42/100\n",
      "17/17 [==============================] - 2s 111ms/step - loss: 0.7587 - accuracy: 0.7611 - val_loss: 0.8566 - val_accuracy: 0.6917\n",
      "Epoch 43/100\n",
      "17/17 [==============================] - 2s 111ms/step - loss: 0.7456 - accuracy: 0.7648 - val_loss: 0.8436 - val_accuracy: 0.7083\n",
      "Epoch 44/100\n",
      "17/17 [==============================] - 2s 106ms/step - loss: 0.7331 - accuracy: 0.7722 - val_loss: 0.8333 - val_accuracy: 0.7167\n",
      "Epoch 45/100\n",
      "17/17 [==============================] - 2s 106ms/step - loss: 0.7213 - accuracy: 0.7759 - val_loss: 0.8211 - val_accuracy: 0.7250\n",
      "Epoch 46/100\n",
      "17/17 [==============================] - 2s 112ms/step - loss: 0.7101 - accuracy: 0.7815 - val_loss: 0.8126 - val_accuracy: 0.7250\n",
      "Epoch 47/100\n",
      "17/17 [==============================] - 2s 106ms/step - loss: 0.6992 - accuracy: 0.7824 - val_loss: 0.8011 - val_accuracy: 0.7333\n",
      "Epoch 48/100\n",
      "17/17 [==============================] - 2s 106ms/step - loss: 0.6891 - accuracy: 0.7833 - val_loss: 0.7935 - val_accuracy: 0.7333\n",
      "Epoch 49/100\n",
      "17/17 [==============================] - 2s 111ms/step - loss: 0.6795 - accuracy: 0.7898 - val_loss: 0.7827 - val_accuracy: 0.7333\n",
      "Epoch 50/100\n",
      "17/17 [==============================] - 2s 111ms/step - loss: 0.6700 - accuracy: 0.7907 - val_loss: 0.7762 - val_accuracy: 0.7333\n",
      "Epoch 51/100\n",
      "17/17 [==============================] - 2s 112ms/step - loss: 0.6616 - accuracy: 0.7935 - val_loss: 0.7663 - val_accuracy: 0.7167\n",
      "Epoch 52/100\n",
      "17/17 [==============================] - 2s 112ms/step - loss: 0.6530 - accuracy: 0.7954 - val_loss: 0.7607 - val_accuracy: 0.7250\n",
      "Epoch 53/100\n",
      "17/17 [==============================] - 2s 112ms/step - loss: 0.6450 - accuracy: 0.7963 - val_loss: 0.7506 - val_accuracy: 0.7167\n",
      "Epoch 54/100\n",
      "17/17 [==============================] - 2s 107ms/step - loss: 0.6371 - accuracy: 0.8009 - val_loss: 0.7456 - val_accuracy: 0.7250\n",
      "Epoch 55/100\n",
      "17/17 [==============================] - 2s 107ms/step - loss: 0.6299 - accuracy: 0.8028 - val_loss: 0.7372 - val_accuracy: 0.7167\n",
      "Epoch 56/100\n",
      "17/17 [==============================] - 2s 106ms/step - loss: 0.6223 - accuracy: 0.8065 - val_loss: 0.7314 - val_accuracy: 0.7250\n",
      "Epoch 57/100\n",
      "17/17 [==============================] - 2s 106ms/step - loss: 0.6152 - accuracy: 0.8074 - val_loss: 0.7248 - val_accuracy: 0.7333\n",
      "Epoch 58/100\n",
      "17/17 [==============================] - 2s 111ms/step - loss: 0.6085 - accuracy: 0.8111 - val_loss: 0.7193 - val_accuracy: 0.7333\n",
      "Epoch 59/100\n",
      "17/17 [==============================] - 2s 111ms/step - loss: 0.6020 - accuracy: 0.8111 - val_loss: 0.7129 - val_accuracy: 0.7333\n",
      "Epoch 60/100\n",
      "17/17 [==============================] - 2s 112ms/step - loss: 0.5957 - accuracy: 0.8120 - val_loss: 0.7075 - val_accuracy: 0.7333\n",
      "Epoch 61/100\n",
      "17/17 [==============================] - 2s 111ms/step - loss: 0.5895 - accuracy: 0.8120 - val_loss: 0.7024 - val_accuracy: 0.7333\n",
      "Epoch 62/100\n",
      "17/17 [==============================] - 2s 113ms/step - loss: 0.5835 - accuracy: 0.8130 - val_loss: 0.6973 - val_accuracy: 0.7333\n",
      "Epoch 63/100\n",
      "17/17 [==============================] - 2s 111ms/step - loss: 0.5776 - accuracy: 0.8148 - val_loss: 0.6932 - val_accuracy: 0.7417\n",
      "Epoch 64/100\n",
      "17/17 [==============================] - 2s 106ms/step - loss: 0.5720 - accuracy: 0.8194 - val_loss: 0.6877 - val_accuracy: 0.7417\n",
      "Epoch 65/100\n",
      "17/17 [==============================] - 2s 111ms/step - loss: 0.5663 - accuracy: 0.8185 - val_loss: 0.6835 - val_accuracy: 0.7417\n",
      "Epoch 66/100\n",
      "17/17 [==============================] - 2s 111ms/step - loss: 0.5610 - accuracy: 0.8222 - val_loss: 0.6775 - val_accuracy: 0.7417\n",
      "Epoch 67/100\n",
      "17/17 [==============================] - 2s 111ms/step - loss: 0.5550 - accuracy: 0.8241 - val_loss: 0.6734 - val_accuracy: 0.7417\n",
      "Epoch 68/100\n",
      "17/17 [==============================] - 2s 111ms/step - loss: 0.5493 - accuracy: 0.8278 - val_loss: 0.6685 - val_accuracy: 0.7417\n",
      "Epoch 69/100\n",
      "17/17 [==============================] - 2s 111ms/step - loss: 0.5434 - accuracy: 0.8278 - val_loss: 0.6626 - val_accuracy: 0.7583\n",
      "Epoch 70/100\n",
      "17/17 [==============================] - 2s 112ms/step - loss: 0.5370 - accuracy: 0.8287 - val_loss: 0.6576 - val_accuracy: 0.7500\n",
      "Epoch 71/100\n",
      "17/17 [==============================] - 2s 112ms/step - loss: 0.5304 - accuracy: 0.8324 - val_loss: 0.6514 - val_accuracy: 0.7667\n",
      "Epoch 72/100\n",
      "17/17 [==============================] - 2s 111ms/step - loss: 0.5237 - accuracy: 0.8380 - val_loss: 0.6459 - val_accuracy: 0.7667\n",
      "Epoch 73/100\n",
      "17/17 [==============================] - 2s 111ms/step - loss: 0.5169 - accuracy: 0.8417 - val_loss: 0.6404 - val_accuracy: 0.7667\n",
      "Epoch 74/100\n",
      "17/17 [==============================] - 2s 106ms/step - loss: 0.5107 - accuracy: 0.8407 - val_loss: 0.6354 - val_accuracy: 0.7750\n",
      "Epoch 75/100\n",
      "17/17 [==============================] - 2s 106ms/step - loss: 0.5045 - accuracy: 0.8454 - val_loss: 0.6328 - val_accuracy: 0.7667\n",
      "Epoch 76/100\n",
      "17/17 [==============================] - 2s 107ms/step - loss: 0.4992 - accuracy: 0.8472 - val_loss: 0.6302 - val_accuracy: 0.7583\n",
      "Epoch 77/100\n",
      "17/17 [==============================] - 2s 106ms/step - loss: 0.4937 - accuracy: 0.8491 - val_loss: 0.6263 - val_accuracy: 0.7583\n",
      "Epoch 78/100\n",
      "17/17 [==============================] - 2s 108ms/step - loss: 0.4887 - accuracy: 0.8509 - val_loss: 0.6241 - val_accuracy: 0.7583\n",
      "Epoch 79/100\n",
      "17/17 [==============================] - 2s 112ms/step - loss: 0.4840 - accuracy: 0.8556 - val_loss: 0.6201 - val_accuracy: 0.7583\n",
      "Epoch 80/100\n",
      "17/17 [==============================] - 2s 112ms/step - loss: 0.4788 - accuracy: 0.8565 - val_loss: 0.6178 - val_accuracy: 0.7583\n",
      "Epoch 81/100\n",
      "17/17 [==============================] - 2s 107ms/step - loss: 0.4745 - accuracy: 0.8593 - val_loss: 0.6149 - val_accuracy: 0.7500\n",
      "Epoch 82/100\n",
      "17/17 [==============================] - 2s 107ms/step - loss: 0.4697 - accuracy: 0.8620 - val_loss: 0.6120 - val_accuracy: 0.7500\n",
      "Epoch 83/100\n",
      "17/17 [==============================] - 2s 106ms/step - loss: 0.4655 - accuracy: 0.8602 - val_loss: 0.6098 - val_accuracy: 0.7500\n",
      "Epoch 84/100\n",
      "17/17 [==============================] - 2s 112ms/step - loss: 0.4612 - accuracy: 0.8620 - val_loss: 0.6066 - val_accuracy: 0.7500\n",
      "Epoch 85/100\n",
      "17/17 [==============================] - 2s 111ms/step - loss: 0.4571 - accuracy: 0.8630 - val_loss: 0.6047 - val_accuracy: 0.7500\n",
      "Epoch 86/100\n",
      "17/17 [==============================] - 2s 111ms/step - loss: 0.4530 - accuracy: 0.8639 - val_loss: 0.6021 - val_accuracy: 0.7583\n",
      "Epoch 87/100\n",
      "17/17 [==============================] - 2s 107ms/step - loss: 0.4487 - accuracy: 0.8639 - val_loss: 0.5994 - val_accuracy: 0.7667\n",
      "Epoch 88/100\n",
      "17/17 [==============================] - 2s 112ms/step - loss: 0.4449 - accuracy: 0.8667 - val_loss: 0.5973 - val_accuracy: 0.7583\n",
      "Epoch 89/100\n",
      "17/17 [==============================] - 2s 111ms/step - loss: 0.4410 - accuracy: 0.8657 - val_loss: 0.5953 - val_accuracy: 0.7667\n",
      "Epoch 90/100\n",
      "17/17 [==============================] - 2s 111ms/step - loss: 0.4372 - accuracy: 0.8657 - val_loss: 0.5925 - val_accuracy: 0.7583\n",
      "Epoch 91/100\n",
      "17/17 [==============================] - 2s 111ms/step - loss: 0.4333 - accuracy: 0.8648 - val_loss: 0.5901 - val_accuracy: 0.7667\n",
      "Epoch 92/100\n",
      "17/17 [==============================] - 2s 106ms/step - loss: 0.4298 - accuracy: 0.8648 - val_loss: 0.5877 - val_accuracy: 0.7583\n",
      "Epoch 93/100\n",
      "17/17 [==============================] - 2s 106ms/step - loss: 0.4262 - accuracy: 0.8657 - val_loss: 0.5839 - val_accuracy: 0.7667\n",
      "Epoch 94/100\n",
      "17/17 [==============================] - 2s 111ms/step - loss: 0.4220 - accuracy: 0.8685 - val_loss: 0.5815 - val_accuracy: 0.7583\n",
      "Epoch 95/100\n",
      "17/17 [==============================] - 2s 112ms/step - loss: 0.4188 - accuracy: 0.8685 - val_loss: 0.5795 - val_accuracy: 0.7583\n",
      "Epoch 96/100\n",
      "17/17 [==============================] - 2s 107ms/step - loss: 0.4149 - accuracy: 0.8694 - val_loss: 0.5762 - val_accuracy: 0.7667\n",
      "Epoch 97/100\n",
      "17/17 [==============================] - 2s 112ms/step - loss: 0.4115 - accuracy: 0.8704 - val_loss: 0.5742 - val_accuracy: 0.7667\n",
      "Epoch 98/100\n",
      "17/17 [==============================] - 2s 106ms/step - loss: 0.4080 - accuracy: 0.8741 - val_loss: 0.5695 - val_accuracy: 0.7667\n",
      "Epoch 99/100\n",
      "17/17 [==============================] - 2s 112ms/step - loss: 0.4050 - accuracy: 0.8769 - val_loss: 0.5681 - val_accuracy: 0.7750\n",
      "Epoch 100/100\n",
      "17/17 [==============================] - 2s 111ms/step - loss: 0.4017 - accuracy: 0.8759 - val_loss: 0.5665 - val_accuracy: 0.7750\n"
     ]
    }
   ],
   "source": [
    "train_dataset = tf.data.Dataset.from_tensor_slices((X_train, Y_train)).batch(64)\n",
    "test_dataset = tf.data.Dataset.from_tensor_slices((X_test, Y_test)).batch(64)\n",
    "history = conv_model.fit(train_dataset, epochs=100, validation_data=test_dataset)"
   ]
  },
  {
   "cell_type": "markdown",
   "metadata": {},
   "source": [
    "<a name='5'></a>\n",
    "## 5 - History Object \n",
    "\n",
    "The history object is an output of the `.fit()` operation, and provides a record of all the loss and metric values in memory. It's stored as a dictionary that you can retrieve at `history.history`: "
   ]
  },
  {
   "cell_type": "code",
   "execution_count": 42,
   "metadata": {},
   "outputs": [
    {
     "data": {
      "text/plain": [
       "{'loss': [1.813092827796936,\n",
       "  1.787584900856018,\n",
       "  1.7828434705734253,\n",
       "  1.7775070667266846,\n",
       "  1.7717711925506592,\n",
       "  1.7652326822280884,\n",
       "  1.757418155670166,\n",
       "  1.7478331327438354,\n",
       "  1.7353821992874146,\n",
       "  1.7174983024597168,\n",
       "  1.6975104808807373,\n",
       "  1.6740036010742188,\n",
       "  1.6504325866699219,\n",
       "  1.6225799322128296,\n",
       "  1.5929325819015503,\n",
       "  1.5592904090881348,\n",
       "  1.5250083208084106,\n",
       "  1.4869146347045898,\n",
       "  1.4499744176864624,\n",
       "  1.4024481773376465,\n",
       "  1.3544209003448486,\n",
       "  1.3055858612060547,\n",
       "  1.2601487636566162,\n",
       "  1.217935562133789,\n",
       "  1.1779283285140991,\n",
       "  1.139467716217041,\n",
       "  1.1040443181991577,\n",
       "  1.0700219869613647,\n",
       "  1.036726713180542,\n",
       "  1.006899118423462,\n",
       "  0.9786891341209412,\n",
       "  0.9509544968605042,\n",
       "  0.9268719553947449,\n",
       "  0.9027639627456665,\n",
       "  0.8808704018592834,\n",
       "  0.8595457077026367,\n",
       "  0.8406203389167786,\n",
       "  0.820726215839386,\n",
       "  0.8039933443069458,\n",
       "  0.7874417901039124,\n",
       "  0.7728620767593384,\n",
       "  0.7586508989334106,\n",
       "  0.745580792427063,\n",
       "  0.7331104874610901,\n",
       "  0.7212629318237305,\n",
       "  0.710128664970398,\n",
       "  0.6992132067680359,\n",
       "  0.6891430616378784,\n",
       "  0.6794629693031311,\n",
       "  0.6699867844581604,\n",
       "  0.6615701913833618,\n",
       "  0.6529561281204224,\n",
       "  0.645012378692627,\n",
       "  0.6371408700942993,\n",
       "  0.6299046874046326,\n",
       "  0.6222959160804749,\n",
       "  0.6152207255363464,\n",
       "  0.6084985136985779,\n",
       "  0.6019843220710754,\n",
       "  0.5957475304603577,\n",
       "  0.589489758014679,\n",
       "  0.5834954380989075,\n",
       "  0.5775719285011292,\n",
       "  0.5720340609550476,\n",
       "  0.5663381218910217,\n",
       "  0.5610031485557556,\n",
       "  0.5549649596214294,\n",
       "  0.549303412437439,\n",
       "  0.5433798432350159,\n",
       "  0.5369569063186646,\n",
       "  0.5303782224655151,\n",
       "  0.5237323045730591,\n",
       "  0.5169208645820618,\n",
       "  0.5107359886169434,\n",
       "  0.5045490264892578,\n",
       "  0.4991569221019745,\n",
       "  0.4937492609024048,\n",
       "  0.48867249488830566,\n",
       "  0.48396584391593933,\n",
       "  0.47883978486061096,\n",
       "  0.474539190530777,\n",
       "  0.46972399950027466,\n",
       "  0.46547868847846985,\n",
       "  0.4611644446849823,\n",
       "  0.45707762241363525,\n",
       "  0.45297443866729736,\n",
       "  0.4487116038799286,\n",
       "  0.4449390470981598,\n",
       "  0.44100478291511536,\n",
       "  0.43724873661994934,\n",
       "  0.4333466589450836,\n",
       "  0.42982736229896545,\n",
       "  0.4261784851551056,\n",
       "  0.4220350384712219,\n",
       "  0.41876083612442017,\n",
       "  0.4149385094642639,\n",
       "  0.4114648401737213,\n",
       "  0.4080122113227844,\n",
       "  0.40504777431488037,\n",
       "  0.40172621607780457],\n",
       " 'accuracy': [0.19166666269302368,\n",
       "  0.19074073433876038,\n",
       "  0.20462962985038757,\n",
       "  0.25833332538604736,\n",
       "  0.27314814925193787,\n",
       "  0.3055555522441864,\n",
       "  0.32407405972480774,\n",
       "  0.34259259700775146,\n",
       "  0.35462963581085205,\n",
       "  0.3759259283542633,\n",
       "  0.4037036895751953,\n",
       "  0.4175925850868225,\n",
       "  0.432407408952713,\n",
       "  0.43611112236976624,\n",
       "  0.45092591643333435,\n",
       "  0.46296295523643494,\n",
       "  0.47870370745658875,\n",
       "  0.47870370745658875,\n",
       "  0.49537035822868347,\n",
       "  0.5111111402511597,\n",
       "  0.5342592597007751,\n",
       "  0.5462962985038757,\n",
       "  0.5638889074325562,\n",
       "  0.5787037014961243,\n",
       "  0.5972222089767456,\n",
       "  0.6083333492279053,\n",
       "  0.6129629611968994,\n",
       "  0.625,\n",
       "  0.6361111402511597,\n",
       "  0.6509259343147278,\n",
       "  0.6555555462837219,\n",
       "  0.6722221970558167,\n",
       "  0.6851851940155029,\n",
       "  0.6981481313705444,\n",
       "  0.710185170173645,\n",
       "  0.7148148417472839,\n",
       "  0.7231481671333313,\n",
       "  0.7361111044883728,\n",
       "  0.7416666746139526,\n",
       "  0.7481481432914734,\n",
       "  0.7527777552604675,\n",
       "  0.7611111402511597,\n",
       "  0.7648147940635681,\n",
       "  0.7722222208976746,\n",
       "  0.7759259343147278,\n",
       "  0.7814815044403076,\n",
       "  0.7824074029922485,\n",
       "  0.7833333611488342,\n",
       "  0.789814829826355,\n",
       "  0.7907407283782959,\n",
       "  0.7935185432434082,\n",
       "  0.7953703999519348,\n",
       "  0.7962962985038757,\n",
       "  0.8009259104728699,\n",
       "  0.8027777671813965,\n",
       "  0.8064814805984497,\n",
       "  0.8074073791503906,\n",
       "  0.8111110925674438,\n",
       "  0.8111110925674438,\n",
       "  0.8120370507240295,\n",
       "  0.8120370507240295,\n",
       "  0.8129629492759705,\n",
       "  0.8148148059844971,\n",
       "  0.8194444179534912,\n",
       "  0.8185185194015503,\n",
       "  0.8222222328186035,\n",
       "  0.8240740895271301,\n",
       "  0.8277778029441833,\n",
       "  0.8277778029441833,\n",
       "  0.8287037014961243,\n",
       "  0.8324074149131775,\n",
       "  0.8379629850387573,\n",
       "  0.8416666388511658,\n",
       "  0.8407407402992249,\n",
       "  0.845370352268219,\n",
       "  0.8472222089767456,\n",
       "  0.8490740656852722,\n",
       "  0.8509259223937988,\n",
       "  0.855555534362793,\n",
       "  0.8564814925193787,\n",
       "  0.8592592477798462,\n",
       "  0.8620370626449585,\n",
       "  0.8601852059364319,\n",
       "  0.8620370626449585,\n",
       "  0.8629629611968994,\n",
       "  0.8638888597488403,\n",
       "  0.8638888597488403,\n",
       "  0.8666666746139526,\n",
       "  0.8657407164573669,\n",
       "  0.8657407164573669,\n",
       "  0.864814817905426,\n",
       "  0.864814817905426,\n",
       "  0.8657407164573669,\n",
       "  0.8685185313224792,\n",
       "  0.8685185313224792,\n",
       "  0.8694444298744202,\n",
       "  0.8703703880310059,\n",
       "  0.8740741014480591,\n",
       "  0.8768518567085266,\n",
       "  0.8759258985519409],\n",
       " 'val_loss': [1.7887685298919678,\n",
       "  1.7826457023620605,\n",
       "  1.7766611576080322,\n",
       "  1.7706841230392456,\n",
       "  1.7648022174835205,\n",
       "  1.757988452911377,\n",
       "  1.7488654851913452,\n",
       "  1.7381622791290283,\n",
       "  1.7229633331298828,\n",
       "  1.703006386756897,\n",
       "  1.6831228733062744,\n",
       "  1.6586250066757202,\n",
       "  1.6346527338027954,\n",
       "  1.6084431409835815,\n",
       "  1.5800670385360718,\n",
       "  1.5506246089935303,\n",
       "  1.5177862644195557,\n",
       "  1.491872787475586,\n",
       "  1.4475970268249512,\n",
       "  1.4119296073913574,\n",
       "  1.371574878692627,\n",
       "  1.3372633457183838,\n",
       "  1.3027008771896362,\n",
       "  1.2649012804031372,\n",
       "  1.2302697896957397,\n",
       "  1.1965082883834839,\n",
       "  1.1609351634979248,\n",
       "  1.132977843284607,\n",
       "  1.1013420820236206,\n",
       "  1.078723430633545,\n",
       "  1.0505297183990479,\n",
       "  1.0275166034698486,\n",
       "  1.0054622888565063,\n",
       "  0.983959436416626,\n",
       "  0.9652713537216187,\n",
       "  0.9453250765800476,\n",
       "  0.9303156733512878,\n",
       "  0.9111644625663757,\n",
       "  0.8974609971046448,\n",
       "  0.8828371167182922,\n",
       "  0.868716299533844,\n",
       "  0.8565735220909119,\n",
       "  0.8436469435691833,\n",
       "  0.8332980871200562,\n",
       "  0.8211014866828918,\n",
       "  0.8125699758529663,\n",
       "  0.8011433482170105,\n",
       "  0.7934526801109314,\n",
       "  0.7826992273330688,\n",
       "  0.7762255072593689,\n",
       "  0.7663140892982483,\n",
       "  0.7607205510139465,\n",
       "  0.75057053565979,\n",
       "  0.7455757260322571,\n",
       "  0.7372334599494934,\n",
       "  0.7314062118530273,\n",
       "  0.724811315536499,\n",
       "  0.7193070650100708,\n",
       "  0.7128981947898865,\n",
       "  0.707531750202179,\n",
       "  0.7023966312408447,\n",
       "  0.6973435282707214,\n",
       "  0.6932232975959778,\n",
       "  0.6877328157424927,\n",
       "  0.683465301990509,\n",
       "  0.6775485873222351,\n",
       "  0.6734105944633484,\n",
       "  0.6685473322868347,\n",
       "  0.6625604629516602,\n",
       "  0.6576389670372009,\n",
       "  0.6514344811439514,\n",
       "  0.6458948254585266,\n",
       "  0.6404216885566711,\n",
       "  0.6354173421859741,\n",
       "  0.6327729821205139,\n",
       "  0.6301698684692383,\n",
       "  0.6262971758842468,\n",
       "  0.6240822076797485,\n",
       "  0.620100736618042,\n",
       "  0.617760956287384,\n",
       "  0.6149477362632751,\n",
       "  0.6120445728302002,\n",
       "  0.60984867811203,\n",
       "  0.6065800189971924,\n",
       "  0.6047026515007019,\n",
       "  0.6020501852035522,\n",
       "  0.5994183421134949,\n",
       "  0.5972740054130554,\n",
       "  0.5953031182289124,\n",
       "  0.5924537777900696,\n",
       "  0.5900759100914001,\n",
       "  0.5876879096031189,\n",
       "  0.5839366316795349,\n",
       "  0.5815137028694153,\n",
       "  0.5794546008110046,\n",
       "  0.5762174129486084,\n",
       "  0.5741920471191406,\n",
       "  0.5694886445999146,\n",
       "  0.5680723786354065,\n",
       "  0.5665358901023865],\n",
       " 'val_accuracy': [0.15833333134651184,\n",
       "  0.22499999403953552,\n",
       "  0.24166665971279144,\n",
       "  0.22499999403953552,\n",
       "  0.30000001192092896,\n",
       "  0.32499998807907104,\n",
       "  0.34166666865348816,\n",
       "  0.40833333134651184,\n",
       "  0.375,\n",
       "  0.4166666567325592,\n",
       "  0.42500001192092896,\n",
       "  0.4333333373069763,\n",
       "  0.46666666865348816,\n",
       "  0.4583333432674408,\n",
       "  0.4833333194255829,\n",
       "  0.4833333194255829,\n",
       "  0.4583333432674408,\n",
       "  0.4583333432674408,\n",
       "  0.5083333253860474,\n",
       "  0.4833333194255829,\n",
       "  0.4833333194255829,\n",
       "  0.4833333194255829,\n",
       "  0.5416666865348816,\n",
       "  0.5333333611488342,\n",
       "  0.5416666865348816,\n",
       "  0.5333333611488342,\n",
       "  0.5333333611488342,\n",
       "  0.5583333373069763,\n",
       "  0.5916666388511658,\n",
       "  0.5916666388511658,\n",
       "  0.6083333492279053,\n",
       "  0.6083333492279053,\n",
       "  0.625,\n",
       "  0.6166666746139526,\n",
       "  0.6416666507720947,\n",
       "  0.6666666865348816,\n",
       "  0.675000011920929,\n",
       "  0.675000011920929,\n",
       "  0.6833333373069763,\n",
       "  0.7083333134651184,\n",
       "  0.699999988079071,\n",
       "  0.6916666626930237,\n",
       "  0.7083333134651184,\n",
       "  0.7166666388511658,\n",
       "  0.7250000238418579,\n",
       "  0.7250000238418579,\n",
       "  0.7333333492279053,\n",
       "  0.7333333492279053,\n",
       "  0.7333333492279053,\n",
       "  0.7333333492279053,\n",
       "  0.7166666388511658,\n",
       "  0.7250000238418579,\n",
       "  0.7166666388511658,\n",
       "  0.7250000238418579,\n",
       "  0.7166666388511658,\n",
       "  0.7250000238418579,\n",
       "  0.7333333492279053,\n",
       "  0.7333333492279053,\n",
       "  0.7333333492279053,\n",
       "  0.7333333492279053,\n",
       "  0.7333333492279053,\n",
       "  0.7333333492279053,\n",
       "  0.7416666746139526,\n",
       "  0.7416666746139526,\n",
       "  0.7416666746139526,\n",
       "  0.7416666746139526,\n",
       "  0.7416666746139526,\n",
       "  0.7416666746139526,\n",
       "  0.7583333253860474,\n",
       "  0.75,\n",
       "  0.7666666507720947,\n",
       "  0.7666666507720947,\n",
       "  0.7666666507720947,\n",
       "  0.7749999761581421,\n",
       "  0.7666666507720947,\n",
       "  0.7583333253860474,\n",
       "  0.7583333253860474,\n",
       "  0.7583333253860474,\n",
       "  0.7583333253860474,\n",
       "  0.7583333253860474,\n",
       "  0.75,\n",
       "  0.75,\n",
       "  0.75,\n",
       "  0.75,\n",
       "  0.75,\n",
       "  0.7583333253860474,\n",
       "  0.7666666507720947,\n",
       "  0.7583333253860474,\n",
       "  0.7666666507720947,\n",
       "  0.7583333253860474,\n",
       "  0.7666666507720947,\n",
       "  0.7583333253860474,\n",
       "  0.7666666507720947,\n",
       "  0.7583333253860474,\n",
       "  0.7583333253860474,\n",
       "  0.7666666507720947,\n",
       "  0.7666666507720947,\n",
       "  0.7666666507720947,\n",
       "  0.7749999761581421,\n",
       "  0.7749999761581421]}"
      ]
     },
     "execution_count": 42,
     "metadata": {},
     "output_type": "execute_result"
    }
   ],
   "source": [
    "history.history"
   ]
  },
  {
   "cell_type": "markdown",
   "metadata": {},
   "source": [
    "Now visualize the loss over time using `history.history`: "
   ]
  },
  {
   "cell_type": "code",
   "execution_count": 43,
   "metadata": {},
   "outputs": [
    {
     "data": {
      "text/plain": [
       "[Text(0, 0.5, 'Accuracy'), Text(0.5, 0, 'Epoch')]"
      ]
     },
     "execution_count": 43,
     "metadata": {},
     "output_type": "execute_result"
    },
    {
     "data": {
      "image/png": "[encoded data removed]",
      "text/plain": [
       "<Figure size 864x576 with 1 Axes>"
      ]
     },
     "metadata": {
      "needs_background": "light"
     },
     "output_type": "display_data"
    },
    {
     "data": {
      "image/png": "[encoded data removed]",
      "text/plain": [
       "<Figure size 864x576 with 1 Axes>"
      ]
     },
     "metadata": {
      "needs_background": "light"
     },
     "output_type": "display_data"
    }
   ],
   "source": [
    "# The history.history[\"loss\"] entry is a dictionary with as many values as epochs that the\n",
    "# model was trained on. \n",
    "df_loss_acc = pd.DataFrame(history.history)\n",
    "df_loss= df_loss_acc[['loss','val_loss']]\n",
    "df_loss.rename(columns={'loss':'train','val_loss':'validation'},inplace=True)\n",
    "df_acc= df_loss_acc[['accuracy','val_accuracy']]\n",
    "df_acc.rename(columns={'accuracy':'train','val_accuracy':'validation'},inplace=True)\n",
    "df_loss.plot(title='Model loss',figsize=(12,8)).set(xlabel='Epoch',ylabel='Loss')\n",
    "df_acc.plot(title='Model Accuracy',figsize=(12,8)).set(xlabel='Epoch',ylabel='Accuracy')"
   ]
  },
  {
   "cell_type": "markdown",
   "metadata": {},
   "source": [
    "**Congratulations**! You've finished the assignment and built two models: One that recognizes  smiles, and another that recognizes SIGN language with almost 80% accuracy on the test set. In addition to that, you now also understand the applications of two Keras APIs: Sequential and Functional. Nicely done! \n",
    "\n",
    "By now, you know a bit about how the Functional API works and may have glimpsed the possibilities. In your next assignment, you'll really get a feel for its power when you get the opportunity to build a very deep ConvNet, using ResNets! "
   ]
  },
  {
   "cell_type": "markdown",
   "metadata": {},
   "source": [
    "<a name='6'></a>\n",
    "## 6 - Bibliography\n",
    "\n",
    "You're always encouraged to read the official documentation. To that end, you can find the docs for the Sequential and Functional APIs here: \n",
    "\n",
    "https://www.tensorflow.org/guide/keras/sequential_model\n",
    "\n",
    "https://www.tensorflow.org/guide/keras/functional"
   ]
  },
  {
   "cell_type": "code",
   "execution_count": null,
   "metadata": {},
   "outputs": [],
   "source": []
  }
 ],
 "metadata": {
  "coursera": {
   "course_slug": "convolutional-neural-networks",
   "graded_item_id": "bwbJV",
   "launcher_item_id": "0TkXB"
  },
  "kernelspec": {
   "display_name": "Python 3",
   "language": "python",
   "name": "python3"
  },
  "language_info": {
   "codemirror_mode": {
    "name": "ipython",
    "version": 3
   },
   "file_extension": ".py",
   "mimetype": "text/x-python",
   "name": "python",
   "nbconvert_exporter": "python",
   "pygments_lexer": "ipython3",
   "version": "3.7.6"
  }
 },
 "nbformat": 4,
 "nbformat_minor": 2
}
